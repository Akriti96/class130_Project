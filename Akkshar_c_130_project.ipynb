{
  "nbformat": 4,
  "nbformat_minor": 0,
  "metadata": {
    "colab": {
      "name": "Akkshar_c-130_project.ipynb",
      "provenance": [],
      "include_colab_link": true
    },
    "kernelspec": {
      "name": "python3",
      "display_name": "Python 3"
    },
    "language_info": {
      "name": "python"
    }
  },
  "cells": [
    {
      "cell_type": "markdown",
      "metadata": {
        "id": "view-in-github",
        "colab_type": "text"
      },
      "source": [
        "<a href=\"https://colab.research.google.com/github/Akriti96/class130_Project/blob/main/Akkshar_c_130_project.ipynb\" target=\"_parent\"><img src=\"https://colab.research.google.com/assets/colab-badge.svg\" alt=\"Open In Colab\"/></a>"
      ]
    },
    {
      "cell_type": "code",
      "metadata": {
        "colab": {
          "base_uri": "https://localhost:8080/",
          "height": 241
        },
        "id": "46ccHhgvbFkx",
        "outputId": "50fae303-2400-4824-b980-152a2f766b78"
      },
      "source": [
        "import csv \n",
        "import pandas as pd\n",
        "\n",
        "df = pd.read_csv(\"total_stars.csv\")\n",
        "df.head()"
      ],
      "execution_count": 1,
      "outputs": [
        {
          "output_type": "execute_result",
          "data": {
            "text/html": [
              "<div>\n",
              "<style scoped>\n",
              "    .dataframe tbody tr th:only-of-type {\n",
              "        vertical-align: middle;\n",
              "    }\n",
              "\n",
              "    .dataframe tbody tr th {\n",
              "        vertical-align: top;\n",
              "    }\n",
              "\n",
              "    .dataframe thead th {\n",
              "        text-align: right;\n",
              "    }\n",
              "</style>\n",
              "<table border=\"1\" class=\"dataframe\">\n",
              "  <thead>\n",
              "    <tr style=\"text-align: right;\">\n",
              "      <th></th>\n",
              "      <th>Unnamed: 0</th>\n",
              "      <th>Star_name</th>\n",
              "      <th>Distance</th>\n",
              "      <th>Mass</th>\n",
              "      <th>Radius</th>\n",
              "      <th>Luminosity</th>\n",
              "      <th>Unnamed: 6</th>\n",
              "      <th>Star_name.1</th>\n",
              "      <th>Distance.1</th>\n",
              "      <th>Mass.1</th>\n",
              "      <th>Radius.1</th>\n",
              "    </tr>\n",
              "  </thead>\n",
              "  <tbody>\n",
              "    <tr>\n",
              "      <th>0</th>\n",
              "      <td>0</td>\n",
              "      <td>Sun</td>\n",
              "      <td>0.000015813</td>\n",
              "      <td>1</td>\n",
              "      <td>1</td>\n",
              "      <td>1</td>\n",
              "      <td>NaN</td>\n",
              "      <td>NaN</td>\n",
              "      <td>NaN</td>\n",
              "      <td>NaN</td>\n",
              "      <td>NaN</td>\n",
              "    </tr>\n",
              "    <tr>\n",
              "      <th>1</th>\n",
              "      <td>1</td>\n",
              "      <td>Sirius</td>\n",
              "      <td>0008.6</td>\n",
              "      <td>2.1</td>\n",
              "      <td>1.71´</td>\n",
              "      <td>25.4</td>\n",
              "      <td>NaN</td>\n",
              "      <td>NaN</td>\n",
              "      <td>NaN</td>\n",
              "      <td>NaN</td>\n",
              "      <td>NaN</td>\n",
              "    </tr>\n",
              "    <tr>\n",
              "      <th>2</th>\n",
              "      <td>2</td>\n",
              "      <td>Canopus</td>\n",
              "      <td>0310</td>\n",
              "      <td>15</td>\n",
              "      <td>71</td>\n",
              "      <td>13,500</td>\n",
              "      <td>NaN</td>\n",
              "      <td>NaN</td>\n",
              "      <td>NaN</td>\n",
              "      <td>NaN</td>\n",
              "      <td>NaN</td>\n",
              "    </tr>\n",
              "    <tr>\n",
              "      <th>3</th>\n",
              "      <td>3</td>\n",
              "      <td>Alpha Centauri</td>\n",
              "      <td>0004.4</td>\n",
              "      <td>1.1</td>\n",
              "      <td>1.2</td>\n",
              "      <td>2</td>\n",
              "      <td>NaN</td>\n",
              "      <td>NaN</td>\n",
              "      <td>NaN</td>\n",
              "      <td>NaN</td>\n",
              "      <td>NaN</td>\n",
              "    </tr>\n",
              "    <tr>\n",
              "      <th>4</th>\n",
              "      <td>4</td>\n",
              "      <td>Arcturus</td>\n",
              "      <td>0037</td>\n",
              "      <td>1.1</td>\n",
              "      <td>26</td>\n",
              "      <td>170</td>\n",
              "      <td>NaN</td>\n",
              "      <td>NaN</td>\n",
              "      <td>NaN</td>\n",
              "      <td>NaN</td>\n",
              "      <td>NaN</td>\n",
              "    </tr>\n",
              "  </tbody>\n",
              "</table>\n",
              "</div>"
            ],
            "text/plain": [
              "   Unnamed: 0       Star_name     Distance  ... Distance.1 Mass.1 Radius.1\n",
              "0           0             Sun  0.000015813  ...        NaN    NaN      NaN\n",
              "1           1          Sirius       0008.6  ...        NaN    NaN      NaN\n",
              "2           2         Canopus         0310  ...        NaN    NaN      NaN\n",
              "3           3  Alpha Centauri       0004.4  ...        NaN    NaN      NaN\n",
              "4           4        Arcturus         0037  ...        NaN    NaN      NaN\n",
              "\n",
              "[5 rows x 11 columns]"
            ]
          },
          "metadata": {},
          "execution_count": 1
        }
      ]
    },
    {
      "cell_type": "code",
      "metadata": {
        "colab": {
          "base_uri": "https://localhost:8080/"
        },
        "id": "8RtaS9mncJQD",
        "outputId": "2ed3625f-4608-4521-ce4d-0aeb36d50b36"
      },
      "source": [
        "df.columns\n",
        "\n",
        "df.drop([\"Unnamed: 0\", \"Luminosity\", \"Unnamed: 6\", \"Star_name.1\", \"Distance.1\", \"Mass.1\", \"Radius.1\"], axis = 1, inplace = True)\n",
        "print(df)"
      ],
      "execution_count": 2,
      "outputs": [
        {
          "output_type": "stream",
          "name": "stdout",
          "text": [
            "                  Star_name  ...               Radius\n",
            "0                       Sun  ...                    1\n",
            "1                    Sirius  ...                1.71´\n",
            "2                   Canopus  ...                   71\n",
            "3            Alpha Centauri  ...                  1.2\n",
            "4                  Arcturus  ...                   26\n",
            "..                      ...  ...                  ...\n",
            "249  2MASSI J2356547-155310  ...  0.11201167000000001\n",
            "250          WISE 0410+1502  ...  0.12023270999999998\n",
            "251         WISE 0458+6434A  ...            0.4316046\n",
            "252         WISE 0458+6434B  ...  0.39049939999999994\n",
            "253          WISE 1405+5534  ...           0.08837618\n",
            "\n",
            "[254 rows x 4 columns]\n"
          ]
        }
      ]
    },
    {
      "cell_type": "code",
      "metadata": {
        "colab": {
          "base_uri": "https://localhost:8080/"
        },
        "id": "NrQGPONLdZdi",
        "outputId": "00e59be6-22ae-440a-a29b-b6e4b592ca4a"
      },
      "source": [
        "finalData = df.dropna(how='any')\n",
        "print(finalData)"
      ],
      "execution_count": 3,
      "outputs": [
        {
          "output_type": "stream",
          "name": "stdout",
          "text": [
            "                  Star_name  ...               Radius\n",
            "0                       Sun  ...                    1\n",
            "1                    Sirius  ...                1.71´\n",
            "2                   Canopus  ...                   71\n",
            "3            Alpha Centauri  ...                  1.2\n",
            "4                  Arcturus  ...                   26\n",
            "..                      ...  ...                  ...\n",
            "249  2MASSI J2356547-155310  ...  0.11201167000000001\n",
            "250          WISE 0410+1502  ...  0.12023270999999998\n",
            "251         WISE 0458+6434A  ...            0.4316046\n",
            "252         WISE 0458+6434B  ...  0.39049939999999994\n",
            "253          WISE 1405+5534  ...           0.08837618\n",
            "\n",
            "[253 rows x 4 columns]\n"
          ]
        }
      ]
    },
    {
      "cell_type": "code",
      "metadata": {
        "colab": {
          "base_uri": "https://localhost:8080/",
          "height": 423
        },
        "id": "vzUvUqxceur3",
        "outputId": "b8aa2a15-6881-406d-9e38-58b090138c85"
      },
      "source": [
        "finalData.reset_index(drop = True, inplace = True)\n",
        "finalData"
      ],
      "execution_count": 4,
      "outputs": [
        {
          "output_type": "execute_result",
          "data": {
            "text/html": [
              "<div>\n",
              "<style scoped>\n",
              "    .dataframe tbody tr th:only-of-type {\n",
              "        vertical-align: middle;\n",
              "    }\n",
              "\n",
              "    .dataframe tbody tr th {\n",
              "        vertical-align: top;\n",
              "    }\n",
              "\n",
              "    .dataframe thead th {\n",
              "        text-align: right;\n",
              "    }\n",
              "</style>\n",
              "<table border=\"1\" class=\"dataframe\">\n",
              "  <thead>\n",
              "    <tr style=\"text-align: right;\">\n",
              "      <th></th>\n",
              "      <th>Star_name</th>\n",
              "      <th>Distance</th>\n",
              "      <th>Mass</th>\n",
              "      <th>Radius</th>\n",
              "    </tr>\n",
              "  </thead>\n",
              "  <tbody>\n",
              "    <tr>\n",
              "      <th>0</th>\n",
              "      <td>Sun</td>\n",
              "      <td>0.000015813</td>\n",
              "      <td>1</td>\n",
              "      <td>1</td>\n",
              "    </tr>\n",
              "    <tr>\n",
              "      <th>1</th>\n",
              "      <td>Sirius</td>\n",
              "      <td>0008.6</td>\n",
              "      <td>2.1</td>\n",
              "      <td>1.71´</td>\n",
              "    </tr>\n",
              "    <tr>\n",
              "      <th>2</th>\n",
              "      <td>Canopus</td>\n",
              "      <td>0310</td>\n",
              "      <td>15</td>\n",
              "      <td>71</td>\n",
              "    </tr>\n",
              "    <tr>\n",
              "      <th>3</th>\n",
              "      <td>Alpha Centauri</td>\n",
              "      <td>0004.4</td>\n",
              "      <td>1.1</td>\n",
              "      <td>1.2</td>\n",
              "    </tr>\n",
              "    <tr>\n",
              "      <th>4</th>\n",
              "      <td>Arcturus</td>\n",
              "      <td>0037</td>\n",
              "      <td>1.1</td>\n",
              "      <td>26</td>\n",
              "    </tr>\n",
              "    <tr>\n",
              "      <th>...</th>\n",
              "      <td>...</td>\n",
              "      <td>...</td>\n",
              "      <td>...</td>\n",
              "      <td>...</td>\n",
              "    </tr>\n",
              "    <tr>\n",
              "      <th>248</th>\n",
              "      <td>2MASSI J2356547-155310</td>\n",
              "      <td>74.0</td>\n",
              "      <td>0.07636704</td>\n",
              "      <td>0.11201167000000001</td>\n",
              "    </tr>\n",
              "    <tr>\n",
              "      <th>249</th>\n",
              "      <td>WISE 0410+1502</td>\n",
              "      <td>20.0</td>\n",
              "      <td>0.005727528</td>\n",
              "      <td>0.12023270999999998</td>\n",
              "    </tr>\n",
              "    <tr>\n",
              "      <th>250</th>\n",
              "      <td>WISE 0458+6434A</td>\n",
              "      <td>35.9</td>\n",
              "      <td>0.014318820000000001</td>\n",
              "      <td>0.4316046</td>\n",
              "    </tr>\n",
              "    <tr>\n",
              "      <th>251</th>\n",
              "      <td>WISE 0458+6434B</td>\n",
              "      <td>35.9</td>\n",
              "      <td>0.00954588</td>\n",
              "      <td>0.39049939999999994</td>\n",
              "    </tr>\n",
              "    <tr>\n",
              "      <th>252</th>\n",
              "      <td>WISE 1405+5534</td>\n",
              "      <td>25.3</td>\n",
              "      <td>0.028637640000000002</td>\n",
              "      <td>0.08837618</td>\n",
              "    </tr>\n",
              "  </tbody>\n",
              "</table>\n",
              "<p>253 rows × 4 columns</p>\n",
              "</div>"
            ],
            "text/plain": [
              "                  Star_name  ...               Radius\n",
              "0                       Sun  ...                    1\n",
              "1                    Sirius  ...                1.71´\n",
              "2                   Canopus  ...                   71\n",
              "3            Alpha Centauri  ...                  1.2\n",
              "4                  Arcturus  ...                   26\n",
              "..                      ...  ...                  ...\n",
              "248  2MASSI J2356547-155310  ...  0.11201167000000001\n",
              "249          WISE 0410+1502  ...  0.12023270999999998\n",
              "250         WISE 0458+6434A  ...            0.4316046\n",
              "251         WISE 0458+6434B  ...  0.39049939999999994\n",
              "252          WISE 1405+5534  ...           0.08837618\n",
              "\n",
              "[253 rows x 4 columns]"
            ]
          },
          "metadata": {},
          "execution_count": 4
        }
      ]
    },
    {
      "cell_type": "code",
      "metadata": {
        "colab": {
          "base_uri": "https://localhost:8080/",
          "height": 17
        },
        "id": "UFOrsbiZfFvn",
        "outputId": "4615cd90-f562-46a6-db3f-b10520b15f26"
      },
      "source": [
        "from google.colab import files\n",
        "\n",
        "finalData.to_csv(\"finalData.csv\")\n",
        "files.download(\"finalData.csv\")"
      ],
      "execution_count": 5,
      "outputs": [
        {
          "output_type": "display_data",
          "data": {
            "application/javascript": [
              "\n",
              "    async function download(id, filename, size) {\n",
              "      if (!google.colab.kernel.accessAllowed) {\n",
              "        return;\n",
              "      }\n",
              "      const div = document.createElement('div');\n",
              "      const label = document.createElement('label');\n",
              "      label.textContent = `Downloading \"${filename}\": `;\n",
              "      div.appendChild(label);\n",
              "      const progress = document.createElement('progress');\n",
              "      progress.max = size;\n",
              "      div.appendChild(progress);\n",
              "      document.body.appendChild(div);\n",
              "\n",
              "      const buffers = [];\n",
              "      let downloaded = 0;\n",
              "\n",
              "      const channel = await google.colab.kernel.comms.open(id);\n",
              "      // Send a message to notify the kernel that we're ready.\n",
              "      channel.send({})\n",
              "\n",
              "      for await (const message of channel.messages) {\n",
              "        // Send a message to notify the kernel that we're ready.\n",
              "        channel.send({})\n",
              "        if (message.buffers) {\n",
              "          for (const buffer of message.buffers) {\n",
              "            buffers.push(buffer);\n",
              "            downloaded += buffer.byteLength;\n",
              "            progress.value = downloaded;\n",
              "          }\n",
              "        }\n",
              "      }\n",
              "      const blob = new Blob(buffers, {type: 'application/binary'});\n",
              "      const a = document.createElement('a');\n",
              "      a.href = window.URL.createObjectURL(blob);\n",
              "      a.download = filename;\n",
              "      div.appendChild(a);\n",
              "      a.click();\n",
              "      div.remove();\n",
              "    }\n",
              "  "
            ],
            "text/plain": [
              "<IPython.core.display.Javascript object>"
            ]
          },
          "metadata": {}
        },
        {
          "output_type": "display_data",
          "data": {
            "application/javascript": [
              "download(\"download_07ab7696-7fb7-4af0-a484-2f86fd4c152f\", \"finalData.csv\", 12684)"
            ],
            "text/plain": [
              "<IPython.core.display.Javascript object>"
            ]
          },
          "metadata": {}
        }
      ]
    }
  ]
}